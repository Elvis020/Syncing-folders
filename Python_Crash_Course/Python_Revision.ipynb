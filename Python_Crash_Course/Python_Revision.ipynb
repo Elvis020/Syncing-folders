{
 "cells": [
  {
   "cell_type": "markdown",
   "metadata": {},
   "source": [
    "## Python Crash Course Part 1"
   ]
  },
  {
   "cell_type": "code",
   "execution_count": 24,
   "metadata": {},
   "outputs": [
    {
     "data": {
      "text/plain": [
       "1340"
      ]
     },
     "execution_count": 24,
     "metadata": {},
     "output_type": "execute_result"
    }
   ],
   "source": [
    "1\n",
    "1.0\n",
    "type(1)\n",
    "type(1.0)\n",
    "1+1\n",
    "1/2\n",
    "3**2\n",
    "4%2\n",
    "(2+3) * (67*4)"
   ]
  },
  {
   "cell_type": "markdown",
   "metadata": {},
   "source": [
    "---"
   ]
  },
  {
   "cell_type": "code",
   "execution_count": 38,
   "metadata": {},
   "outputs": [
    {
     "name": "stdout",
     "output_type": "stream",
     "text": [
      "32\n",
      "Welcome, Elvis\n",
      "My name is SpaceWalker and i am 5 years old\n",
      "My name is SpaceWalker and i am 5 years old\n"
     ]
    }
   ],
   "source": [
    "name_of_var = 32\n",
    "person = \"SpaceWalker\"\n",
    "x = 5\n",
    "print(name_of_var)\n",
    "name_of_var + x\n",
    "print(\"Welcome, Elvis\")\n",
    "# \"I don't like that\"\n",
    "'I don\\'t like that'\n",
    "print(\"My name is {} and i am {} years old\".format(person,x))\n",
    "print(\"My name is {t} and i am {p} years old\".format(t=person,p=x))"
   ]
  },
  {
   "cell_type": "markdown",
   "metadata": {},
   "source": [
    "---"
   ]
  },
  {
   "cell_type": "code",
   "execution_count": 51,
   "metadata": {},
   "outputs": [
    {
     "data": {
      "text/plain": [
       "'t'"
      ]
     },
     "execution_count": 51,
     "metadata": {},
     "output_type": "execute_result"
    }
   ],
   "source": [
    "myList = [1,2,3,4,\"re\"]\n",
    "myList\n",
    "myList[-1]\n",
    "# OR\n",
    "myList[len(myList)-1]\n",
    "myList[-1] = \"Hello\"\n",
    "myList\n",
    "myList.append('t')\n",
    "myList\n",
    "newList = [1,2,3,myList]\n",
    "newList[3][-1]   #Stacking index calls"
   ]
  },
  {
   "cell_type": "markdown",
   "metadata": {},
   "source": [
    "---"
   ]
  },
  {
   "cell_type": "code",
   "execution_count": 61,
   "metadata": {},
   "outputs": [
    {
     "data": {
      "text/plain": [
       "{1, 2, 3, 4, 5, 6, 7, 8}"
      ]
     },
     "execution_count": 61,
     "metadata": {},
     "output_type": "execute_result"
    }
   ],
   "source": [
    "d = {'name':'Spacey','age':31,'occupation':'CSC'}\n",
    "d\n",
    "d.items()\n",
    "d.keys()\n",
    "d.values()\n",
    "t = (2,'dsd',32,'ds',True)\n",
    "t\n",
    "# Sets:They are like dictionary with ni key value pairs:unordered collection of unique elements\n",
    "set_example = {1,1,2,1,1,1,1,1,2,3,4,5,6,7,8}\n",
    "set_example\n",
    "# True\n",
    "# False"
   ]
  },
  {
   "cell_type": "markdown",
   "metadata": {},
   "source": [
    "## Python Crash Course Part 2"
   ]
  },
  {
   "cell_type": "code",
   "execution_count": 2,
   "metadata": {},
   "outputs": [
    {
     "data": {
      "text/plain": [
       "False"
      ]
     },
     "execution_count": 2,
     "metadata": {},
     "output_type": "execute_result"
    }
   ],
   "source": [
    "'a' == 'A'"
   ]
  },
  {
   "cell_type": "code",
   "execution_count": 6,
   "metadata": {},
   "outputs": [
    {
     "name": "stdout",
     "output_type": "stream",
     "text": [
      "They are not\n"
     ]
    }
   ],
   "source": [
    "if 1==2:\n",
    "    print(\"They are equal\")\n",
    "elif 3 ==4:\n",
    "    print(\"Second condition is true\")\n",
    "else:\n",
    "    print(\"They are not\")"
   ]
  },
  {
   "cell_type": "code",
   "execution_count": 9,
   "metadata": {},
   "outputs": [
    {
     "name": "stdout",
     "output_type": "stream",
     "text": [
      "1\n",
      "2\n",
      "3\n",
      "4\n",
      "5\n"
     ]
    }
   ],
   "source": [
    "seq = [1,2,3,4,5]\n",
    "for n in seq:\n",
    "    print(n)\n",
    "    "
   ]
  },
  {
   "cell_type": "code",
   "execution_count": 14,
   "metadata": {},
   "outputs": [
    {
     "name": "stdout",
     "output_type": "stream",
     "text": [
      "i is currently: 1\n",
      "i is currently: 2\n",
      "i is currently: 3\n",
      "i is currently: 4\n"
     ]
    }
   ],
   "source": [
    "i= 1\n",
    "while(i < 5):\n",
    "    print(\"i is currently: {}\".format(i))\n",
    "    i = i + 1"
   ]
  },
  {
   "cell_type": "code",
   "execution_count": 19,
   "metadata": {},
   "outputs": [],
   "source": [
    "new_rang = list(range(2,20))"
   ]
  },
  {
   "cell_type": "code",
   "execution_count": 20,
   "metadata": {},
   "outputs": [
    {
     "data": {
      "text/plain": [
       "[4,\n",
       " 9,\n",
       " 16,\n",
       " 25,\n",
       " 36,\n",
       " 49,\n",
       " 64,\n",
       " 81,\n",
       " 100,\n",
       " 121,\n",
       " 144,\n",
       " 169,\n",
       " 196,\n",
       " 225,\n",
       " 256,\n",
       " 289,\n",
       " 324,\n",
       " 361]"
      ]
     },
     "execution_count": 20,
     "metadata": {},
     "output_type": "execute_result"
    }
   ],
   "source": [
    "# List comprehension\n",
    "[num**2 for num in new_rang ]"
   ]
  },
  {
   "cell_type": "markdown",
   "metadata": {},
   "source": [
    "## Python Crash Course Part 3"
   ]
  },
  {
   "cell_type": "code",
   "execution_count": 24,
   "metadata": {},
   "outputs": [
    {
     "name": "stdout",
     "output_type": "stream",
     "text": [
      "Hello Elvis\n"
     ]
    }
   ],
   "source": [
    "def funccy(name=\"Elvis\"):\n",
    "    '''\n",
    "    This prints the name Elvis\n",
    "    '''\n",
    "    print(\"Hello \" + name)\n",
    "funccy()"
   ]
  },
  {
   "cell_type": "code",
   "execution_count": 25,
   "metadata": {},
   "outputs": [],
   "source": [
    "# Difference btn print and return\n",
    "# Print: Just displays what it wants to display.The type of the result is NoneType\n",
    "# Return: Saves the result for further manipulation."
   ]
  },
  {
   "cell_type": "code",
   "execution_count": 27,
   "metadata": {},
   "outputs": [
    {
     "data": {
      "text/plain": [
       "81"
      ]
     },
     "execution_count": 27,
     "metadata": {},
     "output_type": "execute_result"
    }
   ],
   "source": [
    "def sqr(x):\n",
    "    return x**2;\n",
    "sqr(9)"
   ]
  },
  {
   "cell_type": "code",
   "execution_count": 40,
   "metadata": {},
   "outputs": [
    {
     "name": "stdout",
     "output_type": "stream",
     "text": [
      "<function <lambda> at 0x7f5aec6043a0>\n"
     ]
    }
   ],
   "source": [
    "# Lambda Expressions\n",
    "lambda x: x**2"
   ]
  },
  {
   "cell_type": "code",
   "execution_count": 38,
   "metadata": {},
   "outputs": [
    {
     "data": {
      "text/plain": [
       "'moonWalker'"
      ]
     },
     "execution_count": 38,
     "metadata": {},
     "output_type": "execute_result"
    }
   ],
   "source": [
    "sentence = 'hello my name is #moonWalker'\n",
    "sentence.lower()\n",
    "sentence.upper()\n",
    "sentence.split()\n",
    "sentence.split('#')[-1]"
   ]
  },
  {
   "cell_type": "code",
   "execution_count": null,
   "metadata": {},
   "outputs": [],
   "source": []
  }
 ],
 "metadata": {
  "kernelspec": {
   "display_name": "Python 3",
   "language": "python",
   "name": "python3"
  },
  "language_info": {
   "codemirror_mode": {
    "name": "ipython",
    "version": 3
   },
   "file_extension": ".py",
   "mimetype": "text/x-python",
   "name": "python",
   "nbconvert_exporter": "python",
   "pygments_lexer": "ipython3",
   "version": "3.8.5"
  }
 },
 "nbformat": 4,
 "nbformat_minor": 4
}
