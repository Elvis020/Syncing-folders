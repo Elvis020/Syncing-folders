{
 "cells": [
  {
   "cell_type": "markdown",
   "metadata": {},
   "source": [
    "## Python Crash Course Part 1"
   ]
  },
  {
   "cell_type": "code",
   "execution_count": 24,
   "metadata": {},
   "outputs": [
    {
     "data": {
      "text/plain": [
       "1340"
      ]
     },
     "execution_count": 24,
     "metadata": {},
     "output_type": "execute_result"
    }
   ],
   "source": [
    "1\n",
    "1.0\n",
    "type(1)\n",
    "type(1.0)\n",
    "1+1\n",
    "1/2\n",
    "3**2\n",
    "4%2\n",
    "(2+3) * (67*4)"
   ]
  },
  {
   "cell_type": "markdown",
   "metadata": {},
   "source": [
    "---"
   ]
  },
  {
   "cell_type": "code",
   "execution_count": 38,
   "metadata": {},
   "outputs": [
    {
     "name": "stdout",
     "output_type": "stream",
     "text": [
      "32\n",
      "Welcome, Elvis\n",
      "My name is SpaceWalker and i am 5 years old\n",
      "My name is SpaceWalker and i am 5 years old\n"
     ]
    }
   ],
   "source": [
    "name_of_var = 32\n",
    "person = \"SpaceWalker\"\n",
    "x = 5\n",
    "print(name_of_var)\n",
    "name_of_var + x\n",
    "print(\"Welcome, Elvis\")\n",
    "# \"I don't like that\"\n",
    "'I don\\'t like that'\n",
    "print(\"My name is {} and i am {} years old\".format(person,x))\n",
    "print(\"My name is {t} and i am {p} years old\".format(t=person,p=x))"
   ]
  },
  {
   "cell_type": "markdown",
   "metadata": {},
   "source": [
    "---"
   ]
  },
  {
   "cell_type": "code",
   "execution_count": 51,
   "metadata": {},
   "outputs": [
    {
     "data": {
      "text/plain": [
       "'t'"
      ]
     },
     "execution_count": 51,
     "metadata": {},
     "output_type": "execute_result"
    }
   ],
   "source": [
    "myList = [1,2,3,4,\"re\"]\n",
    "myList\n",
    "myList[-1]\n",
    "# OR\n",
    "myList[len(myList)-1]\n",
    "myList[-1] = \"Hello\"\n",
    "myList\n",
    "myList.append('t')\n",
    "myList\n",
    "newList = [1,2,3,myList]\n",
    "newList[3][-1]   #Stacking index calls"
   ]
  },
  {
   "cell_type": "markdown",
   "metadata": {},
   "source": [
    "---"
   ]
  },
  {
   "cell_type": "code",
   "execution_count": 61,
   "metadata": {},
   "outputs": [
    {
     "data": {
      "text/plain": [
       "{1, 2, 3, 4, 5, 6, 7, 8}"
      ]
     },
     "execution_count": 61,
     "metadata": {},
     "output_type": "execute_result"
    }
   ],
   "source": [
    "d = {'name':'Spacey','age':31,'occupation':'CSC'}\n",
    "d\n",
    "d.items()\n",
    "d.keys()\n",
    "d.values()\n",
    "t = (2,'dsd',32,'ds',True)\n",
    "t\n",
    "# Sets:They are like dictionary with ni key value pairs:unordered collection of unique elements\n",
    "set_example = {1,1,2,1,1,1,1,1,2,3,4,5,6,7,8}\n",
    "set_example\n",
    "# True\n",
    "# False"
   ]
  },
  {
   "cell_type": "markdown",
   "metadata": {},
   "source": [
    "## Python Crash Course Part 2"
   ]
  },
  {
   "cell_type": "code",
   "execution_count": null,
   "metadata": {},
   "outputs": [],
   "source": []
  }
 ],
 "metadata": {
  "kernelspec": {
   "display_name": "Python 3",
   "language": "python",
   "name": "python3"
  },
  "language_info": {
   "codemirror_mode": {
    "name": "ipython",
    "version": 3
   },
   "file_extension": ".py",
   "mimetype": "text/x-python",
   "name": "python",
   "nbconvert_exporter": "python",
   "pygments_lexer": "ipython3",
   "version": "3.8.5"
  }
 },
 "nbformat": 4,
 "nbformat_minor": 4
}
